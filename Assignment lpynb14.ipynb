{
  "nbformat": 4,
  "nbformat_minor": 0,
  "metadata": {
    "colab": {
      "provenance": []
    },
    "kernelspec": {
      "name": "python3",
      "display_name": "Python 3"
    },
    "language_info": {
      "name": "python"
    }
  },
  "cells": [
    {
      "cell_type": "markdown",
      "source": [
        "###**1. What does RGBA stand for?**\n",
        "**Ans:** RGBA is a four-channel format containing data for Red, Green, Blue, and an Alpha value. Where Alpha Represents the Opacity"
      ],
      "metadata": {
        "id": "muuKc-nzQkaU"
      }
    },
    {
      "cell_type": "markdown",
      "source": [
        "###**2. From the Pillow module, how do you get the RGBA value of any images?**\n",
        "**Ans:** ImageColor.getcolor() gives rgba value of any image"
      ],
      "metadata": {
        "id": "hWxDKEQbRGMb"
      }
    },
    {
      "cell_type": "markdown",
      "source": [
        "###**3. What is a box tuple, and how does it work?**\n",
        "**Ans**: A box tuple is a tuple value of four integers: the left-edge x-coordinate, the top-edge y-coordinate,the width, and the height, respectively."
      ],
      "metadata": {
        "id": "Y8FALbTARQGL"
      }
    },
    {
      "cell_type": "markdown",
      "source": [
        "###**4. Use your image and load in notebook then, How can you find out the width and height of an Image object?**"
      ],
      "metadata": {
        "id": "fL2vCHyNRaNz"
      }
    },
    {
      "cell_type": "code",
      "source": [
        "#Example Program\n",
        "from PIL import Image\n",
        "pic = Image.open('Pic.jpg')\n",
        "print(f'Width, Height -> {pic.size}') # Approach 1\n",
        "print(f'Width, Height -> {pic.width},{pic.height}') # Approach 2\n",
        "width,height = pic.size\n",
        "print(f'Width, Height -> {width},{height}') # Approach 3"
      ],
      "metadata": {
        "id": "cFqt5NxARjCN"
      },
      "execution_count": null,
      "outputs": []
    },
    {
      "cell_type": "markdown",
      "source": [
        "###**5. What method would you call to get Image object for a 100×100 image, excluding the lower-left quarter of it?**"
      ],
      "metadata": {
        "id": "d3Ju5zl1SVP7"
      }
    },
    {
      "cell_type": "code",
      "source": [
        "from PIL import Image\n",
        "img = Image.open('Pic.jpg')\n",
        "new_img = img.crop((0,50,50,50))"
      ],
      "metadata": {
        "id": "jBxLefUjSgWi"
      },
      "execution_count": null,
      "outputs": []
    },
    {
      "cell_type": "markdown",
      "source": [
        "###**6. After making changes to an Image object, how could you save it as an image file?**"
      ],
      "metadata": {
        "id": "TqO9XgN7Sqt7"
      }
    },
    {
      "cell_type": "code",
      "source": [
        "#Example Program\n",
        "from PIL import Image\n",
        "pic = Image.open('pic.jpg')\n",
        "pic.save('pic2.jpg')"
      ],
      "metadata": {
        "id": "YjYoZFRsSy9E"
      },
      "execution_count": null,
      "outputs": []
    },
    {
      "cell_type": "markdown",
      "source": [
        "###**7. What module contains Pillow’s shape-drawing code?**\n",
        "Ans: Pillows **ImageDraw** module contains Shape drawing methods"
      ],
      "metadata": {
        "id": "Aj7DNvheS0CK"
      }
    },
    {
      "cell_type": "markdown",
      "source": [
        "###**8. Image objects do not have drawing methods. What kind of object does? How do you get this kind of object?**\n",
        "\n",
        "**Ans:** ImageDraw objects have shape-drawing methods such as point(), line(), or rectangle().They are returned by passing the Image object to the ImageDraw.Draw() function."
      ],
      "metadata": {
        "id": "tnl69VT6S9pC"
      }
    }
  ]
}